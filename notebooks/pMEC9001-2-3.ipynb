{
 "cells": [
  {
   "cell_type": "markdown",
   "metadata": {},
   "source": [
    "# Construction of the pMEC9001, 2 and 3 vectors\n",
    "\n",
    "The vector pMEC1049 vector was used in [Romaní et al. 2014](http://www.sciencedirect.com/science/article/pii/S096085241401757X) The pMEC1049 expresses a D-xylose metabolic pathway and has a hygromycin selectable marker. The details of the construction of pMEC1049 can be found [here](pMEC1049.ipynb).\n",
    "\n",
    "This document describe the construction of the pMEC9001, 2 and 3 vectors. The pMEC9001 is the pMEC1049 with an additional expression cassette for the Saccharomyces cerevisiae gene HAA1(YPR008W). The pMEC9002 is the pMEC1049 with an additional expression cassette for S. cerevisiae PRS3(YHL011C) and pMEC9003 has both of them.\n",
    "\n",
    "| Vector   | Relevant property                                            |\n",
    "|----------|--------------------------------------------------------------|\n",
    "| pMEC9001 | [HAA1](http://www.yeastgenome.org/locus/S000006212/overview) |\n",
    "| pMEC9002 | [PRS3](http://www.yeastgenome.org/locus/S000001003/overview) |\n",
    "| pMEC9003 | HAA1 & PRS3                                                  |\n",
    "\n",
    "Normally, this would be done following the yeast pathway kit strategy by adding genes with a set of new promoters and terminators, but in this case a requirement was to retain the native promoters and terminators for HAA1 and PRS3.\n",
    "\n",
    "The strategy involves linearizing the vector in two locations (before and after the xylose pathway) and adding the HAA1 and PRS3 expression cassettes amplified using tailed primers.\n",
    "\n",
    "\n",
    "## The PRS3 construct\n",
    "\n",
    "The PRS3 cassette was previously cloned according to the description below in vector YEpJCP according to this description:\n",
    "\n",
    "\"obtained by PCR amplification of fragment carrying PRS3 from Saccharomyces cerevisiae CEN.PK113-7D genomic DNA using appropriate primers and insertion into plasmid pGEM-T Easy. Cloning into YEplac195KanMX using EcoRI digestion sites.\" [Cunha et al. 2015](http://www.sciencedirect.com/science/article/pii/S0960852415006707)\n",
    "\n",
    "Primers:\n",
    "\n",
    "    P1: TTATCTTCATCACCGCCATAC\n",
    "    P2: ACAAGAGAAACTTTTGGGTAAAATG\n",
    "\n",
    "The exact same PRS3 fragment will be cloned in pMEC9002."
   ]
  },
  {
   "cell_type": "code",
   "execution_count": 1,
   "metadata": {},
   "outputs": [],
   "source": [
    "from pydna.parsers import parse_primers"
   ]
  },
  {
   "cell_type": "code",
   "execution_count": 2,
   "metadata": {
    "collapsed": false,
    "jupyter": {
     "outputs_hidden": false
    }
   },
   "outputs": [],
   "source": [
    "p1,p2 = parse_primers('''\n",
    ">P1\n",
    "TTATCTTCATCACCGCCATAC\n",
    ">P2\n",
    "ACAAGAGAAACTTTTGGGTAAAATG\n",
    "''')"
   ]
  },
  {
   "cell_type": "markdown",
   "metadata": {},
   "source": [
    "We gain access to the S. cerevisiae genome through the [pygenome](https://pypi.python.org/pypi/pygenome) module."
   ]
  },
  {
   "cell_type": "code",
   "execution_count": 3,
   "metadata": {
    "collapsed": false,
    "jupyter": {
     "outputs_hidden": false
    }
   },
   "outputs": [],
   "source": [
    "from pygenome import saccharomyces_cerevisiae as sg"
   ]
  }
 ],
 "metadata": {
  "anaconda-cloud": {},
  "kernelspec": {
   "display_name": "Python [conda env:bjorn38]",
   "language": "python",
   "name": "conda-env-bjorn38-py"
  },
  "language_info": {
   "codemirror_mode": {
    "name": "ipython",
    "version": 3
   },
   "file_extension": ".py",
   "mimetype": "text/x-python",
   "name": "python",
   "nbconvert_exporter": "python",
   "pygments_lexer": "ipython3",
   "version": "3.8.5"
  }
 },
 "nbformat": 4,
 "nbformat_minor": 4
}
