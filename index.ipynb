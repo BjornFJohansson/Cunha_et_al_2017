{
 "cells": [
  {
   "cell_type": "markdown",
   "metadata": {},
   "source": [
    "# Cunha et al. 2017\n",
    "\n",
    "Jupyter notebooks/pydna for \n",
    "\n",
    "\"Towards superior yeast for 2G ethanol: HAA1 and PRS3 overexpression boosts xylose consumption in the presence of lignocellulosic-derived inhibitors Joana T Cunha, Luis Ferraz, Aloia Romanía, Carlos E Costa, Isabel Sá-Correia, Björn Johansson and Lucília Domingues\"\n",
    "\n",
    "\n",
    "## [pMEC1153](pMEC1153.ipynb)\n",
    "\n",
    "pMEC1153 is a yeast episomal (YEp) vector carrying the hphMX4 hygromycin resistance marker and expressing the following genes:\n",
    "\n",
    "1. XYL1 (Xylose reductase)\n",
    "2. XYL2 (Xylitol dehydrogenase)\n",
    "3. XKS1 (Xylylokinase)\n",
    "4. TAL1 (Transaldolase)\n",
    "\n",
    "This vector was used in [Romaní et al. 2015](https://www.ncbi.nlm.nih.gov/pubmed/25536512) to create D-xylose metabolizing industrial yeast strains based on Saccharomyces cerevisiae CAT-1 and PE-2. \n",
    "The vector is referred to as pMEC1049 or pMEC149 in the publication.\n",
    "\n",
    "\n",
    "## [pMEC9001-2-3](pMEC9001-2-3.ipynb)\n",
    "\n",
    "These three vectors are based on the pMEC1153 with additional expression cassettes for [HAA1](http://www.yeastgenome.org/locus/S000006212/overview) or [PRS3](http://www.yeastgenome.org/locus/S000001003/overview) or both:\n",
    "\n",
    "1. pMEC9001 (pMEC1153 + HAA1)\n",
    "2. pMEC9002 (pMEC1153 + PRS3)\n",
    "3. pMEC9003 (pMEC1153 + HAA1 + PRS3)\n",
    "\n",
    "These vectors were used to study the influence of HAA1 and PRS3 on fermentation performance. "
   ]
  }
 ],
 "metadata": {
  "anaconda-cloud": {},
  "kernelspec": {
   "display_name": "Python 3",
   "language": "python",
   "name": "python3"
  },
  "language_info": {
   "codemirror_mode": {
    "name": "ipython",
    "version": 3
   },
   "file_extension": ".py",
   "mimetype": "text/x-python",
   "name": "python",
   "nbconvert_exporter": "python",
   "pygments_lexer": "ipython3",
   "version": "3.5.2"
  }
 },
 "nbformat": 4,
 "nbformat_minor": 0
}
