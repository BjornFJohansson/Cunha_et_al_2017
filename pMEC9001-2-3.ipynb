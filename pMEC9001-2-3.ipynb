{
 "cells": [
  {
   "cell_type": "markdown",
   "metadata": {
    "collapsed": true
   },
   "source": [
    "# Construction of the pMEC9001, 2 and 3 vectors\n",
    "\n",
    "The vector pMEC1153 was descibed in [Romaní et al. 2014](http://www.sciencedirect.com/science/article/pii/S096085241401757X) where it was refered to as pMEC1049. The pMEC1153 expresses a D-xylose metabolic pathway and has a hygromycin selectable marker. The details of the construction of pMEC1153 can be found [here](pMEC1153.ipynb).\n",
    "\n",
    "This document describe the construction of the pMEC9001, 2 and 3 vectors. The pMEC9001 is the pMEC1153 with an additional expression cassette for the Saccharomyces cerevisiae gene HAA1(YPR008W). The pMEC9002 is the pMEC1153 with an additional expression cassette for S. cerevisiae PRS3(YHL011C) and pMEC9003 has both of them.\n",
    "\n",
    "| Vector   | Relevant property                                            |\n",
    "|----------|--------------------------------------------------------------|\n",
    "| pMEC9001 | [HAA1](http://www.yeastgenome.org/locus/S000006212/overview) |\n",
    "| pMEC9002 | [PRS3](http://www.yeastgenome.org/locus/S000001003/overview) |\n",
    "| pMEC9003 | HAA1 & PRS3                                                  |\n",
    "\n",
    "Normally, this would be done following the yeast pathway kit strategy by adding genes with a set of new promoters and terminators, but in this case a requirement was to retain the native promoters and terminators for HAA1 and PRS3.\n",
    "\n",
    "The strategy involves linearizing the vector in two locations (before and after the xylose pathway) and adding the HAA1 and PRS3 expression cassettes amplified using tailed primers.\n",
    "\n",
    "\n",
    "## The PRS3 construct\n",
    "\n",
    "The PRS3 cassette was previously cloned according to the description below in vector YEpJCP according to this description:\n",
    "\n",
    "\"obtained by PCR amplification of fragment carrying PRS3 from Saccharomyces cerevisiae CEN.PK113-7D genomic DNA using appropriate primers and insertion into plasmid pGEM-T Easy. Cloning into YEplac195KanMX using EcoRI digestion sites.\" [Cunha et al. 2015](http://www.sciencedirect.com/science/article/pii/S0960852415006707)\n",
    "\n",
    "Primers:\n",
    "\n",
    "    P1: TTATCTTCATCACCGCCATAC\n",
    "    P2: ACAAGAGAAACTTTTGGGTAAAATG\n",
    "\n",
    "The exact same PRS3 fragment will be cloned in pMEC9002."
   ]
  },
  {
   "cell_type": "code",
   "execution_count": 51,
   "metadata": {
    "collapsed": true
   },
   "outputs": [],
   "source": [
    "import pydna"
   ]
  },
  {
   "cell_type": "code",
   "execution_count": 52,
   "metadata": {
    "collapsed": false
   },
   "outputs": [],
   "source": [
    "p1,p2 = pydna.parse_primers('''\n",
    ">P1\n",
    "TTATCTTCATCACCGCCATAC\n",
    ">P2\n",
    "ACAAGAGAAACTTTTGGGTAAAATG\n",
    "''')"
   ]
  },
  {
   "cell_type": "markdown",
   "metadata": {},
   "source": [
    "We gain access to the S. cerevisiae genome through the [pygenome](https://pypi.python.org/pypi/pygenome) module."
   ]
  },
  {
   "cell_type": "code",
   "execution_count": 53,
   "metadata": {
    "collapsed": true
   },
   "outputs": [],
   "source": [
    "from pygenome import sg"
   ]
  },
  {
   "cell_type": "code",
   "execution_count": 54,
   "metadata": {
    "collapsed": false
   },
   "outputs": [],
   "source": [
    "PRS3_locus = pydna.Dseqrecord(sg.gene[\"PRS3\"].locus())"
   ]
  },
  {
   "cell_type": "markdown",
   "metadata": {},
   "source": [
    "The PRS3_locus contain the DNA from the end of the upstream ORF to the beginning of the downstream ORF."
   ]
  },
  {
   "cell_type": "code",
   "execution_count": 55,
   "metadata": {
    "collapsed": false
   },
   "outputs": [
    {
     "data": {
      "text/plain": [
       "Dseqrecord(-2963)"
      ]
     },
     "execution_count": 55,
     "metadata": {},
     "output_type": "execute_result"
    }
   ],
   "source": [
    "PRS3_locus"
   ]
  },
  {
   "cell_type": "code",
   "execution_count": 56,
   "metadata": {
    "collapsed": false
   },
   "outputs": [],
   "source": [
    "PRS3_product = pydna.pcr(p1, p2, PRS3_locus)"
   ]
  },
  {
   "cell_type": "code",
   "execution_count": 57,
   "metadata": {
    "collapsed": false
   },
   "outputs": [
    {
     "data": {
      "text/html": [
       "Amplicon(1546)"
      ],
      "text/plain": [
       "Amplicon(1546)"
      ]
     },
     "execution_count": 57,
     "metadata": {},
     "output_type": "execute_result"
    }
   ],
   "source": [
    "PRS3_product"
   ]
  },
  {
   "cell_type": "code",
   "execution_count": 58,
   "metadata": {
    "collapsed": false
   },
   "outputs": [
    {
     "data": {
      "text/plain": [
       "5TTATCTTCATCACCGCCATAC...CATTTTACCCAAAAGTTTCTCTTGT3\n",
       "                         ||||||||||||||||||||||||| tm 55.7 (dbd) 63.4\n",
       "                        3GTAAAATGGGTTTTCAAAGAGAACA5\n",
       "5TTATCTTCATCACCGCCATAC3\n",
       " ||||||||||||||||||||| tm 55.5 (dbd) 62.9\n",
       "3AATAGAAGTAGTGGCGGTATG...GTAAAATGGGTTTTCAAAGAGAACA5"
      ]
     },
     "execution_count": 58,
     "metadata": {},
     "output_type": "execute_result"
    }
   ],
   "source": [
    "PRS3_product.figure()"
   ]
  },
  {
   "cell_type": "markdown",
   "metadata": {},
   "source": [
    "The primers anneal perfectly to the template, so this is the PCR product we want."
   ]
  },
  {
   "cell_type": "markdown",
   "metadata": {},
   "source": [
    "# HAA1 construct\n",
    "\n",
    "We will now do the same with the HAA1 cassette.\n",
    "\n",
    "Vector: BHUM1737\n",
    "\n",
    "Construction: obtained by PCR amplification of a SalI/BamHI fragment carrying HAA1 from yeast genomic DNA using appropriate primers and subsequent insertion into plasmid YEplac195.\n",
    "\n",
    "Primers described in [Malcher et al. 2011](https://www.ncbi.nlm.nih.gov/pmc/articles/PMC3063667/) supporting information, Table S1\n",
    "\n",
    "    HAA1hc_fw: GTC GAC CCC ATT TCC CCT TTC TTT TCC\n",
    "    HAA1hc_rev: GGA TCC ATA CCT CAT CTC TGC GTG TTC G"
   ]
  },
  {
   "cell_type": "code",
   "execution_count": 59,
   "metadata": {
    "collapsed": true
   },
   "outputs": [],
   "source": [
    "h1,h2 = pydna.parse('''\n",
    ">HAA1hc_fw\n",
    "GTC GAC CCC ATT TCC CCT TTC TTT TCC\n",
    ">HAA1hc_rev\n",
    "GGA TCC ATA CCT CAT CTC TGC GTG TTC G\n",
    "''')"
   ]
  },
  {
   "cell_type": "code",
   "execution_count": 60,
   "metadata": {
    "collapsed": false
   },
   "outputs": [],
   "source": [
    "HAA1_locus=pydna.Dseqrecord(sg.gene[\"HAA1\"].locus())"
   ]
  },
  {
   "cell_type": "code",
   "execution_count": 61,
   "metadata": {
    "collapsed": false
   },
   "outputs": [
    {
     "data": {
      "text/plain": [
       "Dseqrecord(-4085)"
      ]
     },
     "execution_count": 61,
     "metadata": {},
     "output_type": "execute_result"
    }
   ],
   "source": [
    "HAA1_locus"
   ]
  },
  {
   "cell_type": "code",
   "execution_count": 62,
   "metadata": {
    "collapsed": false
   },
   "outputs": [],
   "source": [
    "HAA1_product = pydna.pcr(h1, h2, HAA1_locus)"
   ]
  },
  {
   "cell_type": "code",
   "execution_count": 63,
   "metadata": {
    "collapsed": false
   },
   "outputs": [
    {
     "data": {
      "text/html": [
       "Amplicon(3227)"
      ],
      "text/plain": [
       "Amplicon(3227)"
      ]
     },
     "execution_count": 63,
     "metadata": {},
     "output_type": "execute_result"
    }
   ],
   "source": [
    "HAA1_product"
   ]
  },
  {
   "cell_type": "code",
   "execution_count": 64,
   "metadata": {
    "collapsed": false
   },
   "outputs": [
    {
     "data": {
      "text/plain": [
       "      5CCCATTTCCCCTTTCTTTTCC...CGAACACGCAGAGATGAGGTAT3\n",
       "                               |||||||||||||||||||||| tm 59.9 (dbd) 66.7\n",
       "                              3GCTTGTGCGTCTCTACTCCATACCTAGG5\n",
       "5GTCGACCCCATTTCCCCTTTCTTTTCC3\n",
       "       ||||||||||||||||||||| tm 57.0 (dbd) 67.6\n",
       "      3GGGTAAAGGGGAAAGAAAAGG...GCTTGTGCGTCTCTACTCCATA5"
      ]
     },
     "execution_count": 64,
     "metadata": {},
     "output_type": "execute_result"
    }
   ],
   "source": [
    "HAA1_product.figure()"
   ]
  },
  {
   "cell_type": "markdown",
   "metadata": {},
   "source": [
    "These primers are tailed, but we have no reason to include these tails (containing restriction sites). We therefore cut six bp from the beginning and six bp from the end of the sequence:"
   ]
  },
  {
   "cell_type": "code",
   "execution_count": 65,
   "metadata": {
    "collapsed": true
   },
   "outputs": [],
   "source": [
    "HAA1_product = HAA1_product[6:-6]"
   ]
  },
  {
   "cell_type": "code",
   "execution_count": 66,
   "metadata": {
    "collapsed": false
   },
   "outputs": [
    {
     "data": {
      "text/plain": [
       "Dseq(-3215)\n",
       "CCCA..GTAT\n",
       "GGGT..CATA"
      ]
     },
     "execution_count": 66,
     "metadata": {},
     "output_type": "execute_result"
    }
   ],
   "source": [
    "HAA1_product.seq"
   ]
  },
  {
   "cell_type": "markdown",
   "metadata": {},
   "source": [
    "Now we will have to design tailed primers for the HAA1_product and the PRS3_product sequences so that we can add them to pMEC1153 by gap repair. First we have to decide with which restriction enzymes we should open the pMEC1153 vector.\n",
    "\n",
    "The restriction enzymes below are candidates for linearizing the pMEC1153 before an after the cassette.\n",
    "\n",
    "[XhoI](http://rebase.neb.com/rebase/enz/XhoI.html) [AleI](http://rebase.neb.com/rebase/enz/AleI.html) [OliI](http://rebase.neb.com/rebase/enz/OliI.html)\n",
    "\n",
    "These enzymes are also unique in the pYPK0 based vectors, so we can use tha same strategy to create vectors expressing only the pRS3 and/or HAA1 but without the xylose pathway if needed."
   ]
  },
  {
   "cell_type": "code",
   "execution_count": 67,
   "metadata": {
    "collapsed": true
   },
   "outputs": [],
   "source": [
    "pMEC1153 = pydna.read(\"pMEC1153.gb\")"
   ]
  },
  {
   "cell_type": "code",
   "execution_count": 68,
   "metadata": {
    "collapsed": false
   },
   "outputs": [
    {
     "data": {
      "text/html": [
       "<a href='pMEC1153.gb' target='_blank'>pMEC1153.gb</a><br>"
      ],
      "text/plain": [
       "File(id?)(o15488)"
      ]
     },
     "execution_count": 68,
     "metadata": {},
     "output_type": "execute_result"
    }
   ],
   "source": [
    "pMEC1153"
   ]
  },
  {
   "cell_type": "code",
   "execution_count": 69,
   "metadata": {
    "collapsed": true
   },
   "outputs": [],
   "source": [
    "from Bio.Restriction import XhoI, AleI, OliI"
   ]
  },
  {
   "cell_type": "code",
   "execution_count": 70,
   "metadata": {
    "collapsed": false
   },
   "outputs": [],
   "source": [
    "pMEC1153_xho = pMEC1153.linearize(XhoI)"
   ]
  },
  {
   "cell_type": "markdown",
   "metadata": {},
   "source": [
    "We design gap repair primers using the pydna assembly primers function"
   ]
  },
  {
   "cell_type": "code",
   "execution_count": 71,
   "metadata": {
    "collapsed": false
   },
   "outputs": [],
   "source": [
    "haa_f, haa_r = pydna.assembly_primers( (HAA1_product,), vector = pMEC1153_xho).pop()"
   ]
  },
  {
   "cell_type": "code",
   "execution_count": 72,
   "metadata": {
    "collapsed": true
   },
   "outputs": [],
   "source": [
    "haa_f.id = \"haa_f\"\n",
    "haa_r.id = \"haa_r\""
   ]
  },
  {
   "cell_type": "code",
   "execution_count": 73,
   "metadata": {
    "collapsed": false
   },
   "outputs": [
    {
     "name": "stdout",
     "output_type": "stream",
     "text": [
      "haa_f\tTGGTTTTACCGTGTGCGGAGATCAGGTTCTGATCCCCCATTTCCCCTTTCT\n",
      "\n"
     ]
    }
   ],
   "source": [
    "print(haa_f.format(\"tab\"))"
   ]
  },
  {
   "cell_type": "code",
   "execution_count": 74,
   "metadata": {
    "collapsed": false
   },
   "outputs": [
    {
     "name": "stdout",
     "output_type": "stream",
     "text": [
      "haa_r\tAGACAAACCGTGGGACGAATTCTTAAGATGCTCGAATACCTCATCTCTGCGT\n",
      "\n"
     ]
    }
   ],
   "source": [
    "print(haa_r.format(\"tab\"))"
   ]
  },
  {
   "cell_type": "code",
   "execution_count": 75,
   "metadata": {
    "collapsed": false
   },
   "outputs": [],
   "source": [
    "HAA1_recombination_product = pydna.pcr(haa_f, haa_r, HAA1_locus)"
   ]
  },
  {
   "cell_type": "code",
   "execution_count": 76,
   "metadata": {
    "collapsed": false
   },
   "outputs": [
    {
     "data": {
      "text/html": [
       "Amplicon(3285)"
      ],
      "text/plain": [
       "Amplicon(3285)"
      ]
     },
     "execution_count": 76,
     "metadata": {},
     "output_type": "execute_result"
    }
   ],
   "source": [
    "HAA1_recombination_product"
   ]
  },
  {
   "cell_type": "code",
   "execution_count": 77,
   "metadata": {
    "collapsed": false
   },
   "outputs": [
    {
     "data": {
      "text/plain": [
       "                                   5CCCATTTCCCCTTTCT...ACGCAGAGATGAGGTATT3\n",
       "                                                       |||||||||||||||||| tm 53.5 (dbd) 56.4\n",
       "                                                      3TGCGTCTCTACTCCATAAGCTCGTAGAATTCTTAAGCAGGGTGCCAAACAGA5\n",
       "5TGGTTTTACCGTGTGCGGAGATCAGGTTCTGATCCCCCATTTCCCCTTTCT3\n",
       "                                    |||||||||||||||| tm 51.1 (dbd) 59.1\n",
       "                                   3GGGTAAAGGGGAAAGA...TGCGTCTCTACTCCATAA5"
      ]
     },
     "execution_count": 77,
     "metadata": {},
     "output_type": "execute_result"
    }
   ],
   "source": [
    "HAA1_recombination_product.figure()"
   ]
  },
  {
   "cell_type": "code",
   "execution_count": 78,
   "metadata": {
    "collapsed": true
   },
   "outputs": [],
   "source": [
    "asm_haa1 = pydna.Assembly((pMEC1153_xho, HAA1_recombination_product))"
   ]
  },
  {
   "cell_type": "code",
   "execution_count": 79,
   "metadata": {
    "collapsed": false
   },
   "outputs": [
    {
     "data": {
      "text/plain": [
       "Assembly:\n",
       "Sequences........................: [15492] [3285]\n",
       "Sequences with shared homologies.: [15492] [3285]\n",
       "Homology limit (bp)..............: 25\n",
       "Number of overlaps...............: 2\n",
       "Nodes in graph(incl. 5' & 3')....: 4\n",
       "Only terminal overlaps...........: No\n",
       "Circular products................: [18703]\n",
       "Linear products..................: [18742] [18738] [39] [35]"
      ]
     },
     "execution_count": 79,
     "metadata": {},
     "output_type": "execute_result"
    }
   ],
   "source": [
    "asm_haa1"
   ]
  },
  {
   "cell_type": "code",
   "execution_count": 80,
   "metadata": {
    "collapsed": true
   },
   "outputs": [],
   "source": [
    "candidate = asm_haa1.circular_products[0]"
   ]
  },
  {
   "cell_type": "code",
   "execution_count": 81,
   "metadata": {
    "collapsed": false
   },
   "outputs": [
    {
     "data": {
      "text/plain": [
       " -|pMEC1153|35\n",
       "|           \\/\n",
       "|           /\\\n",
       "|           35|3285bp_PCR_prod|35\n",
       "|                              \\/\n",
       "|                              /\\\n",
       "|                              35-\n",
       "|                                 |\n",
       " ---------------------------------"
      ]
     },
     "execution_count": 81,
     "metadata": {},
     "output_type": "execute_result"
    }
   ],
   "source": [
    "candidate.figure()"
   ]
  },
  {
   "cell_type": "code",
   "execution_count": 82,
   "metadata": {
    "collapsed": true
   },
   "outputs": [],
   "source": [
    "pMEC9001 = candidate.synced(pMEC1153)"
   ]
  },
  {
   "cell_type": "code",
   "execution_count": 104,
   "metadata": {
    "collapsed": false
   },
   "outputs": [
    {
     "data": {
      "text/plain": [
       "cSEGUID_BgBOlNv8lWGLExKGOpZa8J83H9I"
      ]
     },
     "execution_count": 104,
     "metadata": {},
     "output_type": "execute_result"
    }
   ],
   "source": [
    "pMEC9001.stamp()"
   ]
  },
  {
   "cell_type": "code",
   "execution_count": 105,
   "metadata": {
    "collapsed": true
   },
   "outputs": [],
   "source": [
    "pMEC9001.locus=\"pMEC9001\""
   ]
  },
  {
   "cell_type": "markdown",
   "metadata": {},
   "source": [
    "The pMEC9001 is the pMEC1153 with HAA1. The sequence can be downloaded using the link below."
   ]
  },
  {
   "cell_type": "code",
   "execution_count": 107,
   "metadata": {
    "collapsed": false
   },
   "outputs": [
    {
     "data": {
      "text/html": [
       "<font face=monospace><a href='pMEC9001.gb' target='_blank'>pMEC9001.gb</a></font><br>"
      ],
      "text/plain": [
       "<IPython.core.display.HTML object>"
      ]
     },
     "metadata": {},
     "output_type": "display_data"
    }
   ],
   "source": [
    "pMEC9001.write(\"pMEC9001.gb\")"
   ]
  },
  {
   "cell_type": "markdown",
   "metadata": {},
   "source": [
    "## PRS3\n",
    "\n",
    "We will now make a pMEC1153 with PRS3 called pMEC9002."
   ]
  },
  {
   "cell_type": "code",
   "execution_count": 85,
   "metadata": {
    "collapsed": false
   },
   "outputs": [],
   "source": [
    "pMEC1153_oli = pMEC1153.linearize(OliI)"
   ]
  },
  {
   "cell_type": "markdown",
   "metadata": {},
   "source": [
    "The integration site was chosen to be the uniqie OliI site."
   ]
  },
  {
   "cell_type": "code",
   "execution_count": 86,
   "metadata": {
    "collapsed": false
   },
   "outputs": [],
   "source": [
    "prs_f, prs_r = pydna.assembly_primers((PRS3_product,), vector=pMEC1153_oli).pop()"
   ]
  },
  {
   "cell_type": "code",
   "execution_count": 87,
   "metadata": {
    "collapsed": false
   },
   "outputs": [
    {
     "name": "stdout",
     "output_type": "stream",
     "text": [
      "PRS3f\tTAACGATGTAGTACAGCGTTTCCGCTTTTTCACCCTTATCTTCATCACCGC\n",
      "\n",
      "PRS3r\tCATAAGTACCCATCCAAGAGCACGCTTATTCACCAACAAGAGAAACTTTTGGG\n",
      "\n"
     ]
    }
   ],
   "source": [
    "prs_f.id = \"PRS3f\"\n",
    "prs_r.id = \"PRS3r\"\n",
    "\n",
    "print(prs_f.format(\"tab\"))\n",
    "print(prs_r.format(\"tab\"))"
   ]
  },
  {
   "cell_type": "code",
   "execution_count": 88,
   "metadata": {
    "collapsed": true
   },
   "outputs": [],
   "source": [
    "PRS3_recombination_product = pydna.pcr(prs_f, prs_r, PRS3_locus)"
   ]
  },
  {
   "cell_type": "code",
   "execution_count": 89,
   "metadata": {
    "collapsed": false
   },
   "outputs": [
    {
     "data": {
      "text/html": [
       "Amplicon(1616)"
      ],
      "text/plain": [
       "Amplicon(1616)"
      ]
     },
     "execution_count": 89,
     "metadata": {},
     "output_type": "execute_result"
    }
   ],
   "source": [
    "PRS3_recombination_product"
   ]
  },
  {
   "cell_type": "markdown",
   "metadata": {},
   "source": [
    "The recombination was designed for OliI but AleI was used."
   ]
  },
  {
   "cell_type": "code",
   "execution_count": 90,
   "metadata": {
    "collapsed": true
   },
   "outputs": [],
   "source": [
    "pMEC1153_ale = pMEC1153.linearize(AleI)"
   ]
  },
  {
   "cell_type": "code",
   "execution_count": 91,
   "metadata": {
    "collapsed": false
   },
   "outputs": [],
   "source": [
    "asm_prs3 = pydna.Assembly((pMEC1153_ale, PRS3_recombination_product))"
   ]
  },
  {
   "cell_type": "code",
   "execution_count": 92,
   "metadata": {
    "collapsed": false
   },
   "outputs": [
    {
     "data": {
      "text/plain": [
       "Assembly:\n",
       "Sequences........................: [15488] [1616]\n",
       "Sequences with shared homologies.: [15488] [1616]\n",
       "Homology limit (bp)..............: 25\n",
       "Number of overlaps...............: 2\n",
       "Nodes in graph(incl. 5' & 3')....: 4\n",
       "Only terminal overlaps...........: No\n",
       "Circular products................: [17034]\n",
       "Linear products..................: [17069] [17069] [35] [35]"
      ]
     },
     "execution_count": 92,
     "metadata": {},
     "output_type": "execute_result"
    }
   ],
   "source": [
    "asm_prs3"
   ]
  },
  {
   "cell_type": "code",
   "execution_count": 93,
   "metadata": {
    "collapsed": false
   },
   "outputs": [],
   "source": [
    "candidate = asm_prs3.circular_products[0]"
   ]
  },
  {
   "cell_type": "code",
   "execution_count": 94,
   "metadata": {
    "collapsed": false
   },
   "outputs": [
    {
     "data": {
      "text/html": [
       "<pre> -|pMEC1153|35\n",
       "|           \\/\n",
       "|           /\\\n",
       "|           35|1616bp_PCR_prod|35\n",
       "|                              \\/\n",
       "|                              /\\\n",
       "|                              35-\n",
       "|                                 |\n",
       " ---------------------------------</pre>"
      ],
      "text/plain": [
       "Contig(o17034)"
      ]
     },
     "execution_count": 94,
     "metadata": {},
     "output_type": "execute_result"
    }
   ],
   "source": [
    "candidate"
   ]
  },
  {
   "cell_type": "code",
   "execution_count": 99,
   "metadata": {
    "collapsed": false
   },
   "outputs": [],
   "source": [
    "pMEC9002 = candidate.synced(pMEC1153)"
   ]
  },
  {
   "cell_type": "code",
   "execution_count": 100,
   "metadata": {
    "collapsed": true
   },
   "outputs": [],
   "source": [
    "pMEC9002.locus = \"pMEC9002\""
   ]
  },
  {
   "cell_type": "code",
   "execution_count": 102,
   "metadata": {
    "collapsed": false
   },
   "outputs": [
    {
     "data": {
      "text/plain": [
       "cSEGUID_5qldWd2jGxUyMnMKECLGpNvJv2M"
      ]
     },
     "execution_count": 102,
     "metadata": {},
     "output_type": "execute_result"
    }
   ],
   "source": [
    "pMEC9002.stamp()"
   ]
  },
  {
   "cell_type": "markdown",
   "metadata": {},
   "source": [
    "The pMEC9002 vector is the pMEC1153 with PRS3"
   ]
  },
  {
   "cell_type": "code",
   "execution_count": 103,
   "metadata": {
    "collapsed": false
   },
   "outputs": [
    {
     "data": {
      "text/html": [
       "<font face=monospace><a href='pMEC9002.gb' target='_blank'>pMEC9002.gb</a></font><br>"
      ],
      "text/plain": [
       "<IPython.core.display.HTML object>"
      ]
     },
     "metadata": {},
     "output_type": "display_data"
    }
   ],
   "source": [
    "pMEC9002.write(\"pMEC9002.gb\")"
   ]
  },
  {
   "cell_type": "markdown",
   "metadata": {},
   "source": [
    "## pMEC9003\n",
    "\n",
    "The HAA1 and PRS3 cassettes were added to the plasmid in one step to the plasmid digested with both XhoI and AleI. Cutting with XhoI and AleI makes two fragments about 6 and 9 kb."
   ]
  },
  {
   "cell_type": "code",
   "execution_count": 108,
   "metadata": {
    "collapsed": false
   },
   "outputs": [],
   "source": [
    "pMEC1153_6kb, pMEC1153_9kbp = pMEC1153.cut(XhoI, AleI)"
   ]
  },
  {
   "cell_type": "code",
   "execution_count": 109,
   "metadata": {
    "collapsed": false
   },
   "outputs": [
    {
     "data": {
      "text/plain": [
       "Dseqrecord(-6017)"
      ]
     },
     "execution_count": 109,
     "metadata": {},
     "output_type": "execute_result"
    }
   ],
   "source": [
    "pMEC1153_6kb"
   ]
  },
  {
   "cell_type": "code",
   "execution_count": 111,
   "metadata": {
    "collapsed": false
   },
   "outputs": [
    {
     "data": {
      "text/plain": [
       "Dseqrecord(-9475)"
      ]
     },
     "execution_count": 111,
     "metadata": {},
     "output_type": "execute_result"
    }
   ],
   "source": [
    "pMEC1153_9kbp"
   ]
  },
  {
   "cell_type": "code",
   "execution_count": 112,
   "metadata": {
    "collapsed": false
   },
   "outputs": [],
   "source": [
    "pMEC1153_6kb.locus = \"pMEC1153_6kb\"\n",
    "pMEC1153_9kbp.locus = \"pMEC1153_9kbp\""
   ]
  },
  {
   "cell_type": "code",
   "execution_count": 113,
   "metadata": {
    "collapsed": false
   },
   "outputs": [],
   "source": [
    "asm_prs_haa = pydna.Assembly((pMEC1153_6kb, pMEC1153_9kbp, HAA1_recombination_product, PRS3_recombination_product))"
   ]
  },
  {
   "cell_type": "code",
   "execution_count": 114,
   "metadata": {
    "collapsed": false
   },
   "outputs": [
    {
     "data": {
      "text/plain": [
       "Assembly:\n",
       "Sequences........................: [6017] [9475] [3285] [1616]\n",
       "Sequences with shared homologies.: [6017] [3285] [1616] [9475]\n",
       "Homology limit (bp)..............: 25\n",
       "Number of overlaps...............: 4\n",
       "Nodes in graph(incl. 5' & 3')....: 6\n",
       "Only terminal overlaps...........: No\n",
       "Circular products................: [20249]\n",
       "Linear products..................: [20288] [20284] [20284] [20284] [18703] [17038] [14306] [12725] [11056] [10844] [9263] [7598] [39] [35] [35] [35]"
      ]
     },
     "execution_count": 114,
     "metadata": {},
     "output_type": "execute_result"
    }
   ],
   "source": [
    "asm_prs_haa"
   ]
  },
  {
   "cell_type": "code",
   "execution_count": 115,
   "metadata": {
    "collapsed": true
   },
   "outputs": [],
   "source": [
    "candidate = asm_prs_haa.circular_products[0]"
   ]
  },
  {
   "cell_type": "code",
   "execution_count": 116,
   "metadata": {
    "collapsed": false
   },
   "outputs": [
    {
     "data": {
      "text/html": [
       "<pre> -|pMEC1153_6kb|35\n",
       "|               \\/\n",
       "|               /\\\n",
       "|               35|3285bp_PCR_prod|35\n",
       "|                                  \\/\n",
       "|                                  /\\\n",
       "|                                  35|pMEC1153_9kbp|35\n",
       "|                                                   \\/\n",
       "|                                                   /\\\n",
       "|                                                   35|1616bp_PCR_prod|35\n",
       "|                                                                      \\/\n",
       "|                                                                      /\\\n",
       "|                                                                      35-\n",
       "|                                                                         |\n",
       " -------------------------------------------------------------------------</pre>"
      ],
      "text/plain": [
       "Contig(o20249)"
      ]
     },
     "execution_count": 116,
     "metadata": {},
     "output_type": "execute_result"
    }
   ],
   "source": [
    "candidate"
   ]
  },
  {
   "cell_type": "code",
   "execution_count": 117,
   "metadata": {
    "collapsed": false
   },
   "outputs": [],
   "source": [
    "pMEC9003 = candidate.synced(pMEC1153)"
   ]
  },
  {
   "cell_type": "code",
   "execution_count": 118,
   "metadata": {
    "collapsed": false
   },
   "outputs": [
    {
     "data": {
      "text/plain": [
       "cSEGUID_hhymwO1hS1IXp9n4XX4eODGWuhU"
      ]
     },
     "execution_count": 118,
     "metadata": {},
     "output_type": "execute_result"
    }
   ],
   "source": [
    "pMEC9003.stamp()"
   ]
  },
  {
   "cell_type": "code",
   "execution_count": 119,
   "metadata": {
    "collapsed": true
   },
   "outputs": [],
   "source": [
    "pMEC9003.locus=\"pMEC9003\""
   ]
  },
  {
   "cell_type": "markdown",
   "metadata": {},
   "source": [
    "pMEC9003 is the pMEC1153 with both HAA1 and PRS3. The sequence can be downloaded from the link below."
   ]
  },
  {
   "cell_type": "code",
   "execution_count": 120,
   "metadata": {
    "collapsed": false
   },
   "outputs": [
    {
     "data": {
      "text/plain": [
       "Dseqrecord(o20249)"
      ]
     },
     "execution_count": 120,
     "metadata": {},
     "output_type": "execute_result"
    }
   ],
   "source": [
    "pMEC9003"
   ]
  },
  {
   "cell_type": "code",
   "execution_count": 121,
   "metadata": {
    "collapsed": false
   },
   "outputs": [
    {
     "data": {
      "text/html": [
       "<font face=monospace><a href='pMEC9003.gb' target='_blank'>pMEC9003.gb</a></font><br>"
      ],
      "text/plain": [
       "<IPython.core.display.HTML object>"
      ]
     },
     "metadata": {},
     "output_type": "display_data"
    }
   ],
   "source": [
    "pMEC9003.write(\"pMEC9003.gb\")"
   ]
  },
  {
   "cell_type": "code",
   "execution_count": null,
   "metadata": {
    "collapsed": true
   },
   "outputs": [],
   "source": []
  }
 ],
 "metadata": {
  "anaconda-cloud": {},
  "kernelspec": {
   "display_name": "Python 3",
   "language": "python",
   "name": "python3"
  },
  "language_info": {
   "codemirror_mode": {
    "name": "ipython",
    "version": 3
   },
   "file_extension": ".py",
   "mimetype": "text/x-python",
   "name": "python",
   "nbconvert_exporter": "python",
   "pygments_lexer": "ipython3",
   "version": "3.5.2"
  }
 },
 "nbformat": 4,
 "nbformat_minor": 0
}
